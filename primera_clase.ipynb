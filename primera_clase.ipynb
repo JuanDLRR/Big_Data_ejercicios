{
  "nbformat": 4,
  "nbformat_minor": 0,
  "metadata": {
    "colab": {
      "name": "primera_clase.ipynb",
      "provenance": [],
      "collapsed_sections": []
    },
    "kernelspec": {
      "name": "python3",
      "display_name": "Python 3"
    },
    "language_info": {
      "name": "python"
    },
    "accelerator": "GPU"
  },
  "cells": [
    {
      "cell_type": "code",
      "source": [
        "print(\"hola mundo\")"
      ],
      "metadata": {
        "colab": {
          "base_uri": "https://localhost:8080/"
        },
        "id": "J0iDBF7vYf43",
        "outputId": "562761df-9276-4714-cc0c-bacdeaeea56c"
      },
      "execution_count": null,
      "outputs": [
        {
          "output_type": "stream",
          "name": "stdout",
          "text": [
            "hola mundo\n"
          ]
        }
      ]
    },
    {
      "cell_type": "code",
      "source": [
        "nombre = \"Juan José\"\n",
        "print(nombre)"
      ],
      "metadata": {
        "colab": {
          "base_uri": "https://localhost:8080/"
        },
        "id": "EEt4hK2wZIcR",
        "outputId": "2c28c072-8ebf-463f-fda9-ae22602f0eb0"
      },
      "execution_count": null,
      "outputs": [
        {
          "output_type": "stream",
          "name": "stdout",
          "text": [
            "Juan José\n"
          ]
        }
      ]
    },
    {
      "cell_type": "code",
      "source": [
        "print(nombre + \" se quiere morir\")"
      ],
      "metadata": {
        "colab": {
          "base_uri": "https://localhost:8080/"
        },
        "id": "Rc6e0s-IZZg_",
        "outputId": "84703f6a-2c19-4875-b3fb-fb527a38fc10"
      },
      "execution_count": null,
      "outputs": [
        {
          "output_type": "stream",
          "name": "stdout",
          "text": [
            "Juan José se quiere morir\n"
          ]
        }
      ]
    },
    {
      "cell_type": "code",
      "source": [
        "nombre = \"Katherine Fernandez\"\n",
        "print(nombre)"
      ],
      "metadata": {
        "colab": {
          "base_uri": "https://localhost:8080/"
        },
        "id": "xCVcBSvDZ0Xg",
        "outputId": "be59d9b2-a307-46bd-ec75-b3ba12a74a5b"
      },
      "execution_count": null,
      "outputs": [
        {
          "output_type": "stream",
          "name": "stdout",
          "text": [
            "Katherine Fernandez\n"
          ]
        }
      ]
    },
    {
      "cell_type": "code",
      "source": [
        "if nombre is \"Juan José\":\n",
        "  print(\"es hombre\")\n",
        "else: \n",
        "  print(\"es mujer\")"
      ],
      "metadata": {
        "colab": {
          "base_uri": "https://localhost:8080/"
        },
        "id": "0bWpyUAMaMx4",
        "outputId": "e94cae5c-2387-4eab-ec19-30b5b7c49c2f"
      },
      "execution_count": null,
      "outputs": [
        {
          "output_type": "stream",
          "name": "stdout",
          "text": [
            "es mujer\n"
          ]
        }
      ]
    },
    {
      "cell_type": "code",
      "source": [
        "i=0\n",
        "while i<5:\n",
        "  i=i+1\n",
        "  print(\"estado: \" + \"con hambre\")"
      ],
      "metadata": {
        "colab": {
          "base_uri": "https://localhost:8080/"
        },
        "id": "DWvzhgq4dJW5",
        "outputId": "0675b9b6-82ca-45b4-de8f-8e32e7c7bd5a"
      },
      "execution_count": null,
      "outputs": [
        {
          "output_type": "stream",
          "name": "stdout",
          "text": [
            "estado: con hambre\n",
            "estado: con hambre\n",
            "estado: con hambre\n",
            "estado: con hambre\n",
            "estado: con hambre\n"
          ]
        }
      ]
    },
    {
      "cell_type": "code",
      "source": [
        "horas = input(\"Ingrese el numero de horas trabajadas: \" )\n",
        "horas = int (horas)\n",
        "costo = input(\"Ingrese el costo de cada hora trabajada: \")\n",
        "costo = int(costo)\n",
        "paga = horas*costo\n",
        "print(\"la paga total es:\")\n",
        "print(paga)"
      ],
      "metadata": {
        "colab": {
          "base_uri": "https://localhost:8080/"
        },
        "id": "xhVM87sYdg3Z",
        "outputId": "9a51f5c5-cdd9-45d0-d6b2-3dfdc58705cd"
      },
      "execution_count": null,
      "outputs": [
        {
          "output_type": "stream",
          "name": "stdout",
          "text": [
            "Ingrese el numero de horas trabajadas: 65\n",
            "Ingrese el costo de cada hora trabajada: 125\n",
            "la paga total es:\n",
            "8125\n"
          ]
        }
      ]
    },
    {
      "cell_type": "code",
      "source": [
        "peso = input(\"Ingrese su peso en Kilogramos (Kg) \")\n",
        "peso = float(peso)\n",
        "estatura = input(\"Ingrese su altura en metros (usar punto para separar decimales) \")\n",
        "estatura = float(estatura)\n",
        "imc = peso/(estatura**2)\n",
        "print(\"Tú IMC es:\")\n",
        "print(imc)"
      ],
      "metadata": {
        "colab": {
          "base_uri": "https://localhost:8080/"
        },
        "id": "1VoIa8zNe72I",
        "outputId": "bc866a0a-8bf8-4a73-e9a6-3ba73028901e"
      },
      "execution_count": null,
      "outputs": [
        {
          "output_type": "stream",
          "name": "stdout",
          "text": [
            "Ingrese su peso en Kilogramos (Kg) 110\n",
            "Ingrese su altura en metros (usar punto para separar decimales) 1.86\n",
            "Tú IMC es:\n",
            "31.795583304428252\n"
          ]
        }
      ]
    },
    {
      "cell_type": "code",
      "source": [
        "barra_dulce = 450\n",
        "no_dia = input(\"Ingrese la cantidad de barras vendidas que no son del dia: \")\n",
        "no_dia = int(no_dia)\n",
        "print(\"el precio habitual de una barra de dulce es: \", barra_dulce)\n",
        "descuento = barra_dulce * 0.5\n",
        "coste_total = descuento * no_dia\n",
        "print(\"El precio con descuento de cada barra es: \", descuento)\n",
        "print(\"El coste total de la compra es: \",coste_total)"
      ],
      "metadata": {
        "colab": {
          "base_uri": "https://localhost:8080/"
        },
        "id": "EsBh4qzOftkw",
        "outputId": "77edef60-d720-4576-8697-9b96e24923bd"
      },
      "execution_count": null,
      "outputs": [
        {
          "output_type": "stream",
          "name": "stdout",
          "text": [
            "Ingrese la cantidad de barras vendidas que no son del dia: 25\n",
            "el precio habitual de una barra de dulce es:  450\n",
            "El precio con descuento de cada barra es:  225.0\n",
            "El coste total de la compra es:  5625.0\n"
          ]
        }
      ]
    },
    {
      "cell_type": "code",
      "source": [
        "edad = int(input(\"Digite su edad\"))\n",
        "for i in range(edad):\n",
        "  print(\"has cumplido: \" + str(i+1) + \" años\")"
      ],
      "metadata": {
        "colab": {
          "base_uri": "https://localhost:8080/"
        },
        "id": "L6t7dgo0c9FK",
        "outputId": "f3ff3d1b-061f-4158-c65c-934949cd388a"
      },
      "execution_count": null,
      "outputs": [
        {
          "output_type": "stream",
          "name": "stdout",
          "text": [
            "Digite su edad5\n",
            "has cumplido: 1 años\n",
            "has cumplido: 2 años\n",
            "has cumplido: 3 años\n",
            "has cumplido: 4 años\n",
            "has cumplido: 5 años\n"
          ]
        }
      ]
    },
    {
      "cell_type": "code",
      "source": [
        "numero=int(input(\"digite un numero porsitivo \"))\n",
        "for i in range(numero):\n",
        "  print(\"Cuenta regresiva: \" + str(numero))\n",
        "  numero -= 1"
      ],
      "metadata": {
        "colab": {
          "base_uri": "https://localhost:8080/"
        },
        "id": "FM2DaXRdeYcG",
        "outputId": "b9ca3863-2832-4efc-da10-1297e3f30c1b"
      },
      "execution_count": null,
      "outputs": [
        {
          "output_type": "stream",
          "name": "stdout",
          "text": [
            "digite un numero porsitivo 8\n",
            "Cuenta regresiva: 8\n",
            "Cuenta regresiva: 7\n",
            "Cuenta regresiva: 6\n",
            "Cuenta regresiva: 5\n",
            "Cuenta regresiva: 4\n",
            "Cuenta regresiva: 3\n",
            "Cuenta regresiva: 2\n",
            "Cuenta regresiva: 1\n"
          ]
        }
      ]
    },
    {
      "cell_type": "code",
      "source": [
        "frase = input(\"escriba una frase \")\n",
        "reverse_str = ''.join(reversed(frase))\n",
        "print(reverse_str)"
      ],
      "metadata": {
        "colab": {
          "base_uri": "https://localhost:8080/"
        },
        "id": "BJRcVv2of7D6",
        "outputId": "9cffca76-bbbd-4f46-8de1-cd1ee1fd189d"
      },
      "execution_count": null,
      "outputs": [
        {
          "output_type": "stream",
          "name": "stdout",
          "text": [
            "escriba una frase hola\n",
            "aloh\n"
          ]
        }
      ]
    },
    {
      "cell_type": "code",
      "source": [
        "x=float(2.8)\n",
        "print(type(x))"
      ],
      "metadata": {
        "colab": {
          "base_uri": "https://localhost:8080/"
        },
        "id": "dBcqD2Jhj_H7",
        "outputId": "d1f6e809-57d6-4ecb-d8ea-baa2e468cc63"
      },
      "execution_count": null,
      "outputs": [
        {
          "output_type": "stream",
          "name": "stdout",
          "text": [
            "<class 'float'>\n"
          ]
        }
      ]
    },
    {
      "cell_type": "code",
      "source": [
        "lista_nombres = [\"Juan José\", \"Andres\", \"Diana\"]\n",
        "Lista_numeros = [1, 2, 3]\n",
        "print(lista_nombres + [\"paco\"])"
      ],
      "metadata": {
        "id": "y8xYE2Zukf7E",
        "colab": {
          "base_uri": "https://localhost:8080/"
        },
        "outputId": "a2f3360b-10f9-4110-b14a-0594126c0d4c"
      },
      "execution_count": null,
      "outputs": [
        {
          "output_type": "stream",
          "name": "stdout",
          "text": [
            "['Juan José', 'Andres', 'Diana', 'paco']\n"
          ]
        }
      ]
    },
    {
      "cell_type": "code",
      "source": [
        "print(Lista_numeros * 1)"
      ],
      "metadata": {
        "colab": {
          "base_uri": "https://localhost:8080/"
        },
        "id": "jk3KfUVaAV9u",
        "outputId": "ed1be975-0cc8-40a2-ab8f-c89df83b29f4"
      },
      "execution_count": null,
      "outputs": [
        {
          "output_type": "stream",
          "name": "stdout",
          "text": [
            "[1, 2, 3]\n"
          ]
        }
      ]
    },
    {
      "cell_type": "markdown",
      "source": [
        "tengo muha pereza y miedo, no se que vaya a salir en el parcial y eso me preocupa mucho. que el parcial ojala este facil y asi poder llegar tranquilo a casa para terminar lo de solano y repasar."
      ],
      "metadata": {
        "id": "cXtmIcsZDDo9"
      }
    },
    {
      "cell_type": "code",
      "source": [
        "persona = {\"nombre\":\"Juan José\", \"apellido\":\"De Los Ríos Rodríguez\", \"edad\":21}\n",
        "print(persona)"
      ],
      "metadata": {
        "colab": {
          "base_uri": "https://localhost:8080/"
        },
        "id": "GZBzPDZtEzA-",
        "outputId": "eeaa5da1-4c25-4b12-af54-b84bbb4fa175"
      },
      "execution_count": null,
      "outputs": [
        {
          "output_type": "stream",
          "name": "stdout",
          "text": [
            "{'nombre': 'Juan José', 'apellido': 'De Los Ríos Rodríguez', 'edad': 21}\n"
          ]
        }
      ]
    },
    {
      "cell_type": "code",
      "source": [
        "print(persona[\"nombre\"])"
      ],
      "metadata": {
        "colab": {
          "base_uri": "https://localhost:8080/"
        },
        "id": "UYvhYxKYFKry",
        "outputId": "389d8943-2721-487d-e346-2735670e50ee"
      },
      "execution_count": null,
      "outputs": [
        {
          "output_type": "stream",
          "name": "stdout",
          "text": [
            "Juan José\n"
          ]
        }
      ]
    },
    {
      "cell_type": "code",
      "source": [
        "t_inidices = (\"nombre\", \"apellido\")\n",
        "for i in t_inidices:\n",
        "  print(\"Llave: \", i, \"Valor\", persona[i])"
      ],
      "metadata": {
        "colab": {
          "base_uri": "https://localhost:8080/"
        },
        "id": "yw6EfCZUFO1A",
        "outputId": "7987e2b8-6f68-4fd4-af7e-90d2acba8f2b"
      },
      "execution_count": null,
      "outputs": [
        {
          "output_type": "stream",
          "name": "stdout",
          "text": [
            "Llave:  nombre valor Juan José\n",
            "Llave:  apellido valor De Los Ríos Rodríguez\n"
          ]
        }
      ]
    },
    {
      "cell_type": "code",
      "source": [
        "def saludar(nombre):\n",
        "  nombre = 1234\n",
        "  print(\"Hola\", nombre)\n",
        "name = \"Juan\"\n",
        "var = saludar(name)\n",
        "print(name)"
      ],
      "metadata": {
        "colab": {
          "base_uri": "https://localhost:8080/"
        },
        "id": "HXjJ4jJxH3Sz",
        "outputId": "38ced867-5e04-470a-f4e8-0f4aea155487"
      },
      "execution_count": null,
      "outputs": [
        {
          "output_type": "stream",
          "name": "stdout",
          "text": [
            "Hola 1234\n",
            "Juan\n"
          ]
        }
      ]
    },
    {
      "cell_type": "code",
      "source": [
        "#Una de las formas de hacer un punto del parcial\n",
        "x = int(input(\"Cantidad de numeros \"))\n",
        "for i in range(x):\n",
        "  y = int(input(\"Ingrese el valor \" + str(i+1) + \" \"))\n",
        "  print(y)"
      ],
      "metadata": {
        "colab": {
          "base_uri": "https://localhost:8080/"
        },
        "id": "Nt5O2SNXJ9h7",
        "outputId": "419b5b3f-3140-495d-fcbd-5b35d72ccbb9"
      },
      "execution_count": null,
      "outputs": [
        {
          "output_type": "stream",
          "name": "stdout",
          "text": [
            "Cantidad de numeros3\n",
            "Ingrese el valor 1 15\n",
            "15\n",
            "Ingrese el valor 2 89\n",
            "89\n",
            "Ingrese el valor 3 102\n",
            "102\n"
          ]
        }
      ]
    },
    {
      "cell_type": "code",
      "source": [
        "def calcular_total(productos, iva=0.16):\n",
        "  sum = 0\n",
        "  for p in productos:\n",
        "    sum = sum +((p*iva) + p)\n",
        "\n",
        "  return sum"
      ],
      "metadata": {
        "id": "5Ge259PqM41c"
      },
      "execution_count": null,
      "outputs": []
    },
    {
      "cell_type": "code",
      "source": [
        "print(calcular_total([12,54,23]))\n",
        "print(calcular_total([12,54,23], 0.19))"
      ],
      "metadata": {
        "colab": {
          "base_uri": "https://localhost:8080/"
        },
        "id": "zqxdCl6-NLKG",
        "outputId": "1683d0a9-993a-4a5b-bbcf-4591d4fc875e"
      },
      "execution_count": null,
      "outputs": [
        {
          "output_type": "stream",
          "name": "stdout",
          "text": [
            "103.24000000000001\n",
            "105.91000000000001\n"
          ]
        }
      ]
    },
    {
      "cell_type": "code",
      "source": [
        "cantidad = int(input(\"ingrese la cantidad de numeros a validar\"))\n",
        "while cantidad < x:\n",
        "  def es_primo(num):\n",
        "      for n in range(2, num):\n",
        "          if num % n == 0:\n",
        "              print(\"No es primo\")\n",
        "              return False\n",
        "      print(\"Es primo\")\n",
        "      return True\n",
        "\n",
        "      x+=1\n",
        "\n",
        "numero=int(input(\"ingrese el numero a validar\"))\n",
        "es_primo(numero)"
      ],
      "metadata": {
        "id": "gHNh0SelDYW3"
      },
      "execution_count": null,
      "outputs": []
    }
  ]
}